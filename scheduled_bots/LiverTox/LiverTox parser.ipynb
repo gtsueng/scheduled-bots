{
 "cells": [
  {
   "cell_type": "markdown",
   "metadata": {},
   "source": [
    "# LiverTox parser\n",
    "\n",
    "LiverTox has been moved from Toxnet to NLM bookshelf with a public domain licensing. It has not been retired and is still updated. NLM bookshelf has an ftp server for retrieving open-licensed materials.  In the process of migrating LiverTox over, it has also been more strictly formatted, making it slightly more easy to parse for information.\n",
    "\n",
    "To obtain the latest dataset, pull the ftp index from here:\n",
    "ftp://ftp.ncbi.nlm.nih.gov/pub/litarch/file_list.txt\n",
    "\n",
    "Next, search for LiverTox and get the url. Every entry in livertox is stored as a pdf and xml file in the compressed file. The filename is the livertox urlstub. The urlbase for LiverTox is https://www.ncbi.nlm.nih.gov/books/n/livertox/\n"
   ]
  },
  {
   "cell_type": "code",
   "execution_count": 1,
   "metadata": {},
   "outputs": [],
   "source": [
    "from wikidataintegrator import wdi_core, wdi_login, wdi_helpers\n",
    "from wikidataintegrator.ref_handlers import update_retrieved_if_new_multiple_refs\n",
    "import pandas as pd\n",
    "from pandas import read_csv\n",
    "import requests\n",
    "import ftplib\n",
    "from tqdm.notebook import trange, tqdm\n",
    "import ipywidgets \n",
    "import widgetsnbextension\n",
    "import xml.etree.ElementTree as et \n",
    "import time\n",
    "import os\n"
   ]
  },
  {
   "cell_type": "code",
   "execution_count": 3,
   "metadata": {},
   "outputs": [],
   "source": [
    "## Note that the property start date is used for list date.\n",
    "## When placed in the references, Deltabot moved it out as a qualifier\n",
    "\n",
    "from datetime import datetime\n",
    "import copy\n",
    "def create_reference(LiverToxUrl):\n",
    "    refStatedIn = wdi_core.WDItemID(value=\"Q78239405\", prop_nr=\"P248\", is_reference=True)\n",
    "    timeStringNow = datetime.now().strftime(\"+%Y-%m-%dT00:00:00Z\")\n",
    "    refRetrieved = wdi_core.WDTime(timeStringNow, prop_nr=\"P813\", is_reference=True)\n",
    "    refURL = wdi_core.WDUrl(value=LiverToxUrl, prop_nr=\"P854\", is_reference=True)\n",
    "    return [refStatedIn, refRetrieved, refURL]"
   ]
  },
  {
   "cell_type": "code",
   "execution_count": 5,
   "metadata": {},
   "outputs": [
    {
     "name": "stdout",
     "output_type": "stream",
     "text": [
      "Logging in...\n"
     ]
    },
    {
     "ename": "ModuleNotFoundError",
     "evalue": "No module named 'wdi_user_config'",
     "output_type": "error",
     "traceback": [
      "\u001b[1;31m---------------------------------------------------------------------------\u001b[0m",
      "\u001b[1;31mModuleNotFoundError\u001b[0m                       Traceback (most recent call last)",
      "\u001b[1;32m<ipython-input-5-e20e80f005f7>\u001b[0m in \u001b[0;36m<module>\u001b[1;34m\u001b[0m\n\u001b[0;32m      1\u001b[0m \u001b[0mprint\u001b[0m\u001b[1;33m(\u001b[0m\u001b[1;34m\"Logging in...\"\u001b[0m\u001b[1;33m)\u001b[0m\u001b[1;33m\u001b[0m\u001b[1;33m\u001b[0m\u001b[0m\n\u001b[1;32m----> 2\u001b[1;33m \u001b[1;32mimport\u001b[0m \u001b[0mwdi_user_config\u001b[0m \u001b[1;31m## Credentials stored in a wdi_user_config file\u001b[0m\u001b[1;33m\u001b[0m\u001b[1;33m\u001b[0m\u001b[0m\n\u001b[0m\u001b[0;32m      3\u001b[0m \u001b[0mlogin_dict\u001b[0m \u001b[1;33m=\u001b[0m \u001b[0mwdi_user_config\u001b[0m\u001b[1;33m.\u001b[0m\u001b[0mget_credentials\u001b[0m\u001b[1;33m(\u001b[0m\u001b[1;33m)\u001b[0m\u001b[1;33m\u001b[0m\u001b[1;33m\u001b[0m\u001b[0m\n\u001b[0;32m      4\u001b[0m \u001b[0mlogin\u001b[0m \u001b[1;33m=\u001b[0m \u001b[0mwdi_login\u001b[0m\u001b[1;33m.\u001b[0m\u001b[0mWDLogin\u001b[0m\u001b[1;33m(\u001b[0m\u001b[0mlogin_dict\u001b[0m\u001b[1;33m[\u001b[0m\u001b[1;34m'WDUSER'\u001b[0m\u001b[1;33m]\u001b[0m\u001b[1;33m,\u001b[0m \u001b[0mlogin_dict\u001b[0m\u001b[1;33m[\u001b[0m\u001b[1;34m'WDPASS'\u001b[0m\u001b[1;33m]\u001b[0m\u001b[1;33m)\u001b[0m\u001b[1;33m\u001b[0m\u001b[1;33m\u001b[0m\u001b[0m\n",
      "\u001b[1;31mModuleNotFoundError\u001b[0m: No module named 'wdi_user_config'"
     ]
    }
   ],
   "source": [
    "print(\"Logging in...\")\n",
    "import wdi_user_config ## Credentials stored in a wdi_user_config file\n",
    "login_dict = wdi_user_config.get_credentials()\n",
    "login = wdi_login.WDLogin(login_dict['WDUSER'], login_dict['WDPASS'])\n"
   ]
  },
  {
   "cell_type": "code",
   "execution_count": 3,
   "metadata": {},
   "outputs": [],
   "source": [
    "urls_dict = {\n",
    "    'ftp_index':'ftp://ftp.ncbi.nlm.nih.gov/pub/litarch/file_list.txt',\n",
    "    'ftp_base':'ftp://ftp.ncbi.nlm.nih.gov/pub/litarch/',\n",
    "    'bookshelf_base':'https://www.ncbi.nlm.nih.gov/books/n/livertox/',\n",
    "    'local_data':'data/'\n",
    "    }"
   ]
  },
  {
   "cell_type": "code",
   "execution_count": null,
   "metadata": {},
   "outputs": [],
   "source": [
    "## Fetch the index file to determine the url of the current livertox dataset\n",
    "#bookshelf_index = ftplib.FTP(urls_dict['ftp_base'])\n",
    "#bookshelf_index.login()\n",
    "\n",
    "#print(bookshelf_index.text)\n",
    "\n",
    "## This is an example of how to use the ftplib to pull things from an ftp server\n",
    "\"\"\"\n",
    "import os\n",
    "from ftplib import FTP\n",
    " \n",
    "ftp = FTP(\"www.myWebsite.com\", \"USERNAME\", \"PASSWORD\")\n",
    "ftp.login()\n",
    "ftp.retrlines(\"LIST\")\n",
    " \n",
    "ftp.cwd(\"folderOne\")\n",
    "ftp.cwd(\"subFolder\") # or ftp.cwd(\"folderOne/subFolder\")\n",
    " \n",
    "listing = []\n",
    "ftp.retrlines(\"LIST\", listing.append)\n",
    "words = listing[0].split(None, 8)\n",
    "filename = words[-1].lstrip()\n",
    " \n",
    "# download the file\n",
    "local_filename = os.path.join(r\"c:\\myfolder\", filename)\n",
    "lf = open(local_filename, \"wb\")\n",
    "ftp.retrbinary(\"RETR \" + filename, lf.write, 8*1024)\n",
    "lf.close()\n",
    "\"\"\""
   ]
  },
  {
   "cell_type": "code",
   "execution_count": 4,
   "metadata": {},
   "outputs": [
    {
     "name": "stdout",
     "output_type": "stream",
     "text": [
      "3372\n"
     ]
    }
   ],
   "source": [
    "## Once the file has been downloaded, process it for data of interest\n",
    "import tarfile\n",
    "import tempfile\n",
    "import stat\n",
    "\n",
    "tar_file = urls_dict['local_data']+'livertox_NBK547852.tar.gz'\n",
    "tar = tarfile.open(tar_file, \"r:gz\")\n",
    "members = tar.getmembers()\n",
    "print(len(members))"
   ]
  },
  {
   "cell_type": "code",
   "execution_count": 5,
   "metadata": {},
   "outputs": [],
   "source": [
    "phenotypes = []\n",
    "drug_types = []\n",
    "misc_pages = []\n",
    "drug_pages = []\n",
    "for member in members:\n",
    "    if '.nxml' in str(member):\n",
    "        extracted = tar.extractfile(member)\n",
    "        tree = et.parse(extracted)\n",
    "        root = tree.getroot()\n",
    "        try:\n",
    "            metainfo = root.find('book-part').find('book-part-meta')\n",
    "            url_stub = metainfo.find('book-part-id').text\n",
    "            drug_name = metainfo.find('title-group').find('title').text\n",
    "            date_info = metainfo.find('pub-history').find('date')\n",
    "            date_day = date_info.find('day').text\n",
    "            date_month = date_info.find('month').text\n",
    "            date_year = date_info.find('year').text\n",
    "            tmp_date = str(date_year)+\"-\"+str(date_month)+\"-\"+str(date_day)\n",
    "            if date_info.attrib['date-type'] == 'updated':\n",
    "                update_date = tmp_date\n",
    "                original_date = None\n",
    "            else:\n",
    "                original_date = tmp_date\n",
    "                update_date = None\n",
    "                \n",
    "            basic_meta = {'Title':drug_name,'url_stub':url_stub,\n",
    "                          'last_update':update_date,'original_date':original_date}\n",
    "            ## Determine if the page is about a drug, drug class, or phenotype\n",
    "            if 'Phenotypes' in url_stub:\n",
    "                phenotypes.append(basic_meta)\n",
    "            else:\n",
    "                book_content = root.find('book-part').find('body').find('sec')\n",
    "                ## We're only interested in the Overview section of the drug and drug class pages\n",
    "                if \".OVERVIEW\" in book_content.attrib['id']:\n",
    "                    ## If the xml gives a list at the top level of the overview page, it's likely a drug class\n",
    "                    basic_tags = [elem.tag for elem in book_content.iter()]\n",
    "                    if 'list' in basic_tags:\n",
    "                        drug_types.append(basic_meta)\n",
    "                    ## If it has a hepatotoxicity section, it's likely a drug page                        \n",
    "                    id_to_find = url_stub+\".Hepatotoxicity\"\n",
    "                    for elem in book_content.iter(tag='sec'):\n",
    "                        if elem.attrib[\"id\"] == id_to_find:\n",
    "                            ## If it's a drug page, grab the likelihood score\n",
    "                            for eachp in elem.iter(tag='p'):\n",
    "                                if \"Likelihood score\" in eachp.text:\n",
    "                                    tmpinfo = eachp.text[18:].split(\" (\")\n",
    "                                    basic_meta['likelihood_score'] = tmpinfo[0]\n",
    "                                    basic_meta['score_info'] = tmpinfo[1].replace(\").\",\"\")\n",
    "                                    drug_pages.append(basic_meta)\n",
    "                                  \n",
    "        except:\n",
    "            misc_pages.append(str(root))"
   ]
  },
  {
   "cell_type": "code",
   "execution_count": 6,
   "metadata": {},
   "outputs": [
    {
     "name": "stdout",
     "output_type": "stream",
     "text": [
      "720\n"
     ]
    }
   ],
   "source": [
    "drug_page_df = pd.DataFrame(drug_pages)\n",
    "phenotypes_df = pd.DataFrame(phenotypes)\n",
    "drug_types_df = pd.DataFrame(drug_types)\n",
    "print(len(drug_page_df))"
   ]
  },
  {
   "cell_type": "code",
   "execution_count": null,
   "metadata": {},
   "outputs": [],
   "source": [
    "## Export Results for Mix N Match\n",
    "\n",
    "#drug_types_df.to_csv('results/drug_types_df.tsv',sep='\\t',header=True)\n",
    "#phenotypes_df.to_csv('results/phenotypes_df.tsv',sep='\\t',header=True)\n",
    "#drug_page_df.to_csv('results/drug_page_df.tsv',sep='\\t',header=True)"
   ]
  },
  {
   "cell_type": "code",
   "execution_count": 7,
   "metadata": {},
   "outputs": [
    {
     "name": "stdout",
     "output_type": "stream",
     "text": [
      "798\n"
     ]
    }
   ],
   "source": [
    "### Filter out LiverTox entries for which a liver toxicity rating was determined\n",
    "\n",
    "liver_tox_scores = pd.concat((drug_page_df.loc[~drug_page_df['likelihood_score'].isnull()],\n",
    "                              drug_types_df.loc[~drug_page_df['likelihood_score'].isnull()]), ignore_index=True)\n",
    "liver_tox_scores.drop_duplicates(keep='first',inplace=True)\n",
    "print(len(liver_tox_scores))\n",
    "#print(liver_tox_scores.head(n=2))"
   ]
  },
  {
   "cell_type": "code",
   "execution_count": 8,
   "metadata": {},
   "outputs": [
    {
     "name": "stdout",
     "output_type": "stream",
     "text": [
      "     WDID      url_stub\n",
      "0  Q58356     Amoxapine\n",
      "1  Q58713  Clomipramine\n"
     ]
    }
   ],
   "source": [
    "## Pull Items mapped to LiverTox IDs\n",
    "sparqlQuery = \"SELECT ?item ?livertox WHERE {?item wdt:P7830 ?livertox}\"\n",
    "result = wdi_core.WDItemEngine.execute_sparql_query(sparqlQuery)\n",
    "livertox_in_wd_list = []\n",
    "\n",
    "i=0\n",
    "while i < len(result[\"results\"][\"bindings\"]):\n",
    "    livertox_id = result[\"results\"][\"bindings\"][i][\"livertox\"][\"value\"]\n",
    "    wdid = result[\"results\"][\"bindings\"][i][\"item\"][\"value\"].replace(\"http://www.wikidata.org/entity/\", \"\")\n",
    "    livertox_in_wd_list.append({'WDID':wdid,'url_stub':livertox_id})\n",
    "    i=i+1\n",
    "\n",
    "livertox_in_wd = pd.DataFrame(livertox_in_wd_list)\n",
    "print(livertox_in_wd.head(n=2))"
   ]
  },
  {
   "cell_type": "code",
   "execution_count": 9,
   "metadata": {},
   "outputs": [
    {
     "name": "stdout",
     "output_type": "stream",
     "text": [
      "685\n",
      "         Title last_update likelihood_score original_date  \\\n",
      "0      Quinine   2018-5-15                B          None   \n",
      "1  Leflunomide   2019-4-15                B          None   \n",
      "\n",
      "                                          score_info     url_stub     WDID  \n",
      "0  highly likely cause of clinically apparent liv...      Quinine  Q189522  \n",
      "1  well known cause of idiosyncratic clinically a...  Leflunomide  Q248550  \n"
     ]
    }
   ],
   "source": [
    "## Results to generate list of Scores to be added\n",
    "livertox2add = liver_tox_scores.merge(livertox_in_wd,on='url_stub',how='inner')\n",
    "print(len(livertox2add))\n",
    "print(livertox2add.head(n=2))\n",
    "livertox2add.to_csv('results/livertox2add.tsv',sep='\\t',header=True,encoding='UTF-8')"
   ]
  },
  {
   "cell_type": "code",
   "execution_count": null,
   "metadata": {},
   "outputs": [],
   "source": [
    "### Add LiverTox score rubric to Wikidata as Items as well as qualifiers\n",
    "### Create property proposals for LiverTox IDs and scores\n",
    "### Add the actual score text using Stated as (P1932) string\n",
    "### Model the high dose scores with Has contributing factor (P1479) or has cause (P828)\n",
    "### LiverTox score property proposal approved (P8026)"
   ]
  },
  {
   "cell_type": "code",
   "execution_count": 2,
   "metadata": {},
   "outputs": [
    {
     "name": "stdout",
     "output_type": "stream",
     "text": [
      "         Title last_update likelihood_score  original_date  \\\n",
      "0      Quinine   2018-5-15                B            NaN   \n",
      "1  Leflunomide   2019-4-15                B            NaN   \n",
      "\n",
      "                                          score_info     url_stub     WDID  \\\n",
      "0  highly likely cause of clinically apparent liv...      Quinine  Q189522   \n",
      "1  well known cause of idiosyncratic clinically a...  Leflunomide  Q248550   \n",
      "\n",
      "   scorelength  \n",
      "0          1.0  \n",
      "1          1.0  \n"
     ]
    }
   ],
   "source": [
    "livertox2add = read_csv('results/livertox2add.tsv',delimiter='\\t',header=0,encoding='UTF-8',index_col=0)\n",
    "livertox2add['scorelength'] = livertox2add['likelihood_score'].str.len()\n",
    "no_quals = livertox2add.loc[livertox2add['scorelength']<=2.0]\n",
    "qualed = livertox2add.loc[(~livertox2add['likelihood_score'].isna())&\n",
    "                          (livertox2add['scorelength']>2)]\n",
    "highdose = qualed.loc[(qualed['likelihood_score'].str.contains('H'))&\n",
    "                      (qualed['scorelength']<6)]\n",
    "\n",
    "issues = qualed.loc[~qualed['WDID'].isin(highdose['WDID'].unique().tolist())]\n",
    "print(no_quals.head(n=2))"
   ]
  },
  {
   "cell_type": "code",
   "execution_count": null,
   "metadata": {},
   "outputs": [],
   "source": [
    "score_dict = {\"A\":\"Q83283320\", \n",
    "              \"B\":\"Q83284157\",\n",
    "              \"C\":\"Q83284310\",\n",
    "              \"D\":\"Q83284515\",\n",
    "              \"E\":\"Q83284667\",\n",
    "              \"E*\":\"Q83284878\",\n",
    "              \"X\":\"Q83285040\",\n",
    "              \"HD\":\"Q83285233\" \n",
    "             }"
   ]
  },
  {
   "cell_type": "code",
   "execution_count": null,
   "metadata": {},
   "outputs": [],
   "source": [
    "## Unit test-- write a statement\n",
    "\n",
    "drug_qid = 'Q189522'\n",
    "phen_qid = 'Q83284157'\n",
    "reference = create_reference()\n",
    "statement = [wdi_core.WDItemID(value=phen_qid, prop_nr=\"P8026\", references=[copy.deepcopy(reference)])]\n",
    "item = wdi_core.WDItemEngine(wd_item_id=drug_qid, data=statement, append_value=\"P8026\",\n",
    "                       global_ref_mode='CUSTOM', ref_handler=update_retrieved_if_new_multiple_refs)\n",
    "item.write(login)\n"
   ]
  }
 ],
 "metadata": {
  "kernelspec": {
   "display_name": "Python 3",
   "language": "python",
   "name": "python3"
  },
  "language_info": {
   "codemirror_mode": {
    "name": "ipython",
    "version": 3
   },
   "file_extension": ".py",
   "mimetype": "text/x-python",
   "name": "python",
   "nbconvert_exporter": "python",
   "pygments_lexer": "ipython3",
   "version": "3.8.5"
  }
 },
 "nbformat": 4,
 "nbformat_minor": 2
}
